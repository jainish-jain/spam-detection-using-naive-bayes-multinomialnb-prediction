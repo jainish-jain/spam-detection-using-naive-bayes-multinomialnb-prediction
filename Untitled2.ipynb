{
 "cells": [
  {
   "cell_type": "code",
   "execution_count": 1,
   "metadata": {},
   "outputs": [],
   "source": [
    "from flask import Flask,render_template,url_for,request\n",
    "import pandas as pd \n",
    "import pickle\n",
    "from sklearn.feature_extraction.text import CountVectorizer\n",
    "from sklearn.naive_bayes import MultinomialNB\n",
    "from sklearn.externals import joblib"
   ]
  },
  {
   "cell_type": "code",
   "execution_count": 2,
   "metadata": {
    "scrolled": true
   },
   "outputs": [],
   "source": [
    "df= pd.read_csv(\"SpamMergedData.csv\")\n",
    "df_data = df[[\"CONTENT\",\"CLASS\"]]"
   ]
  },
  {
   "cell_type": "code",
   "execution_count": 3,
   "metadata": {},
   "outputs": [
    {
     "output_type": "execute_result",
     "data": {
      "text/plain": "     Unnamed: 0  Unnamed: 1                                   COMMENT_ID  \\\n0           Psy           0  LZQPQhLyRh80UYxNuaDWhIGQYNQ96IuCg-AYWqNPjpU   \n1           Psy           1  LZQPQhLyRh_C2cTtd9MvFRJedxydaVW-2sNg5Diuo4A   \n2           Psy           2  LZQPQhLyRh9MSZYnf8djyk0gEF9BHDPYrrK-qCczIY8   \n3           Psy           3          z13jhp0bxqncu512g22wvzkasxmvvzjaz04   \n4           Psy           4          z13fwbwp1oujthgqj04chlngpvzmtt3r3dw   \n...         ...         ...                                          ...   \n1951    Shakira         365  _2viQ_Qnc6-bMSjqyL1NKj57ROicCSJV5SwTrw-RFFA   \n1952    Shakira         366  _2viQ_Qnc6-pY-1yR6K2FhmC5i48-WuNx5CumlHLDAI   \n1953    Shakira         367  _2viQ_Qnc6_k_n_Bse9zVhJP8tJReZpo8uM2uZfnzDs   \n1954    Shakira         368  _2viQ_Qnc6_yBt8UGMWyg3vh0PulTqcqyQtdE7d4Fl0   \n1955    Shakira         369  _2viQ_Qnc685RPw1aSa1tfrIuHXRvAQ2rPT9R06KTqA   \n\n                    AUTHOR                        DATE  \\\n0                Julius NM         2013-11-07T06:20:48   \n1              adam riyati         2013-11-07T12:37:15   \n2         Evgeny Murashkin         2013-11-08T17:34:21   \n3          ElNino Melendez         2013-11-09T08:28:43   \n4                   GsMega         2013-11-10T16:05:38   \n...                    ...                         ...   \n1951          Katie Mettam  2013-07-13T13:27:39.441000   \n1952  Sabina Pearson-Smith  2013-07-13T13:14:30.021000   \n1953         jeffrey jules  2013-07-13T12:09:31.188000   \n1954        Aishlin Maciel  2013-07-13T11:17:52.308000   \n1955           Latin Bosch  2013-07-12T22:33:27.916000   \n\n                                                CONTENT  CLASS  \n0     Huh, anyway check out this you[tube] channel: ...      1  \n1     Hey guys check out my new channel and our firs...      1  \n2                just for test I have to say murdev.com      1  \n3      me shaking my sexy ass on my channel enjoy ^_^ ﻿      1  \n4               watch?v=vtaRGgvGtWQ   Check this out .﻿      1  \n...                                                 ...    ...  \n1951  I love this song because we sing it at Camp al...      0  \n1952  I love this song for two reasons: 1.it is abou...      0  \n1953                                                wow      0  \n1954                            Shakira u are so wiredo      0  \n1955                         Shakira is the best dancer      0  \n\n[1956 rows x 7 columns]",
      "text/html": "<div>\n<style scoped>\n    .dataframe tbody tr th:only-of-type {\n        vertical-align: middle;\n    }\n\n    .dataframe tbody tr th {\n        vertical-align: top;\n    }\n\n    .dataframe thead th {\n        text-align: right;\n    }\n</style>\n<table border=\"1\" class=\"dataframe\">\n  <thead>\n    <tr style=\"text-align: right;\">\n      <th></th>\n      <th>Unnamed: 0</th>\n      <th>Unnamed: 1</th>\n      <th>COMMENT_ID</th>\n      <th>AUTHOR</th>\n      <th>DATE</th>\n      <th>CONTENT</th>\n      <th>CLASS</th>\n    </tr>\n  </thead>\n  <tbody>\n    <tr>\n      <th>0</th>\n      <td>Psy</td>\n      <td>0</td>\n      <td>LZQPQhLyRh80UYxNuaDWhIGQYNQ96IuCg-AYWqNPjpU</td>\n      <td>Julius NM</td>\n      <td>2013-11-07T06:20:48</td>\n      <td>Huh, anyway check out this you[tube] channel: ...</td>\n      <td>1</td>\n    </tr>\n    <tr>\n      <th>1</th>\n      <td>Psy</td>\n      <td>1</td>\n      <td>LZQPQhLyRh_C2cTtd9MvFRJedxydaVW-2sNg5Diuo4A</td>\n      <td>adam riyati</td>\n      <td>2013-11-07T12:37:15</td>\n      <td>Hey guys check out my new channel and our firs...</td>\n      <td>1</td>\n    </tr>\n    <tr>\n      <th>2</th>\n      <td>Psy</td>\n      <td>2</td>\n      <td>LZQPQhLyRh9MSZYnf8djyk0gEF9BHDPYrrK-qCczIY8</td>\n      <td>Evgeny Murashkin</td>\n      <td>2013-11-08T17:34:21</td>\n      <td>just for test I have to say murdev.com</td>\n      <td>1</td>\n    </tr>\n    <tr>\n      <th>3</th>\n      <td>Psy</td>\n      <td>3</td>\n      <td>z13jhp0bxqncu512g22wvzkasxmvvzjaz04</td>\n      <td>ElNino Melendez</td>\n      <td>2013-11-09T08:28:43</td>\n      <td>me shaking my sexy ass on my channel enjoy ^_^ ﻿</td>\n      <td>1</td>\n    </tr>\n    <tr>\n      <th>4</th>\n      <td>Psy</td>\n      <td>4</td>\n      <td>z13fwbwp1oujthgqj04chlngpvzmtt3r3dw</td>\n      <td>GsMega</td>\n      <td>2013-11-10T16:05:38</td>\n      <td>watch?v=vtaRGgvGtWQ   Check this out .﻿</td>\n      <td>1</td>\n    </tr>\n    <tr>\n      <th>...</th>\n      <td>...</td>\n      <td>...</td>\n      <td>...</td>\n      <td>...</td>\n      <td>...</td>\n      <td>...</td>\n      <td>...</td>\n    </tr>\n    <tr>\n      <th>1951</th>\n      <td>Shakira</td>\n      <td>365</td>\n      <td>_2viQ_Qnc6-bMSjqyL1NKj57ROicCSJV5SwTrw-RFFA</td>\n      <td>Katie Mettam</td>\n      <td>2013-07-13T13:27:39.441000</td>\n      <td>I love this song because we sing it at Camp al...</td>\n      <td>0</td>\n    </tr>\n    <tr>\n      <th>1952</th>\n      <td>Shakira</td>\n      <td>366</td>\n      <td>_2viQ_Qnc6-pY-1yR6K2FhmC5i48-WuNx5CumlHLDAI</td>\n      <td>Sabina Pearson-Smith</td>\n      <td>2013-07-13T13:14:30.021000</td>\n      <td>I love this song for two reasons: 1.it is abou...</td>\n      <td>0</td>\n    </tr>\n    <tr>\n      <th>1953</th>\n      <td>Shakira</td>\n      <td>367</td>\n      <td>_2viQ_Qnc6_k_n_Bse9zVhJP8tJReZpo8uM2uZfnzDs</td>\n      <td>jeffrey jules</td>\n      <td>2013-07-13T12:09:31.188000</td>\n      <td>wow</td>\n      <td>0</td>\n    </tr>\n    <tr>\n      <th>1954</th>\n      <td>Shakira</td>\n      <td>368</td>\n      <td>_2viQ_Qnc6_yBt8UGMWyg3vh0PulTqcqyQtdE7d4Fl0</td>\n      <td>Aishlin Maciel</td>\n      <td>2013-07-13T11:17:52.308000</td>\n      <td>Shakira u are so wiredo</td>\n      <td>0</td>\n    </tr>\n    <tr>\n      <th>1955</th>\n      <td>Shakira</td>\n      <td>369</td>\n      <td>_2viQ_Qnc685RPw1aSa1tfrIuHXRvAQ2rPT9R06KTqA</td>\n      <td>Latin Bosch</td>\n      <td>2013-07-12T22:33:27.916000</td>\n      <td>Shakira is the best dancer</td>\n      <td>0</td>\n    </tr>\n  </tbody>\n</table>\n<p>1956 rows × 7 columns</p>\n</div>"
     },
     "metadata": {},
     "execution_count": 3
    }
   ],
   "source": [
    "df"
   ]
  },
  {
   "cell_type": "code",
   "execution_count": 4,
   "metadata": {},
   "outputs": [],
   "source": [
    "df_x = df_data['CONTENT']\n",
    "df_y = df_data.CLASS"
   ]
  },
  {
   "cell_type": "code",
   "execution_count": 5,
   "metadata": {},
   "outputs": [],
   "source": [
    "df_x = df_data['CONTENT']\n",
    "df_y = df_data.CLASS"
   ]
  },
  {
   "cell_type": "code",
   "execution_count": 6,
   "metadata": {},
   "outputs": [],
   "source": [
    "corpus = df_x\n",
    "cv = CountVectorizer()\n",
    "X = cv.fit_transform(corpus) \n",
    "from sklearn.model_selection import train_test_split\n",
    "X_train, X_test, y_train, y_test = train_test_split(X, df_y, test_size=0.33, random_state=42)"
   ]
  },
  {
   "cell_type": "code",
   "execution_count": 7,
   "metadata": {},
   "outputs": [
    {
     "output_type": "execute_result",
     "data": {
      "text/plain": "0.9195046439628483"
     },
     "metadata": {},
     "execution_count": 7
    }
   ],
   "source": [
    "from sklearn.naive_bayes import MultinomialNB\n",
    "clf = MultinomialNB()\n",
    "clf.fit(X_train,y_train)\n",
    "clf.score(X_test,y_test)"
   ]
  },
  {
   "cell_type": "code",
   "execution_count": 19,
   "metadata": {},
   "outputs": [],
   "source": [
    "data = [\"get a free entry\"]\n",
    "vect = cv.transform(data).toarray()\n",
    "my_prediction = clf.predict(vect)"
   ]
  },
  {
   "cell_type": "code",
   "execution_count": 20,
   "metadata": {
    "tags": []
   },
   "outputs": [
    {
     "output_type": "stream",
     "name": "stdout",
     "text": "spam\n"
    }
   ],
   "source": [
    "print('Not a spam ' if  my_prediction[0]==0 else 'spam')"
   ]
  },
  {
   "cell_type": "code",
   "execution_count": null,
   "metadata": {},
   "outputs": [],
   "source": []
  },
  {
   "cell_type": "code",
   "execution_count": null,
   "metadata": {},
   "outputs": [],
   "source": []
  },
  {
   "cell_type": "code",
   "execution_count": null,
   "metadata": {},
   "outputs": [],
   "source": []
  }
 ],
 "metadata": {
  "kernelspec": {
   "display_name": "Python 3",
   "language": "python",
   "name": "python3"
  },
  "language_info": {
   "codemirror_mode": {
    "name": "ipython",
    "version": 3
   },
   "file_extension": ".py",
   "mimetype": "text/x-python",
   "name": "python",
   "nbconvert_exporter": "python",
   "pygments_lexer": "ipython3",
   "version": "3.7.4"
  }
 },
 "nbformat": 4,
 "nbformat_minor": 2
}